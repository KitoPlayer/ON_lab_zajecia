{
  "nbformat": 4,
  "nbformat_minor": 0,
  "metadata": {
    "colab": {
      "name": "ON_1_pd.ipynb",
      "provenance": [],
      "collapsed_sections": [],
      "authorship_tag": "ABX9TyNdppmcbI8Mv7otU+tWTccT",
      "include_colab_link": true
    },
    "kernelspec": {
      "name": "python3",
      "display_name": "Python 3"
    },
    "language_info": {
      "name": "python"
    }
  },
  "cells": [
    {
      "cell_type": "markdown",
      "metadata": {
        "id": "view-in-github",
        "colab_type": "text"
      },
      "source": [
        "<a href=\"https://colab.research.google.com/github/KitoPlayer/ObliczeniaNaukowe/blob/main/ON_1_pd.ipynb\" target=\"_parent\"><img src=\"https://colab.research.google.com/assets/colab-badge.svg\" alt=\"Open In Colab\"/></a>"
      ]
    },
    {
      "cell_type": "markdown",
      "source": [
        "## Zadanie 1\n",
        "\n"
      ],
      "metadata": {
        "id": "SmD6iUjwaVlK"
      }
    },
    {
      "cell_type": "code",
      "source": [
        "\n",
        "\n",
        "def num_digits(a):\n",
        "  assert type(a) == int\n",
        "  return len(str(abs(a)))\n",
        "\n"
      ],
      "metadata": {
        "id": "3aNaF_9Bag3u"
      },
      "execution_count": null,
      "outputs": []
    },
    {
      "cell_type": "code",
      "source": [
        "num_digits(201037)"
      ],
      "metadata": {
        "colab": {
          "base_uri": "https://localhost:8080/"
        },
        "id": "rVPkaJApbB2A",
        "outputId": "abb41abe-3bab-4b9f-bce0-29380e2e4cdf"
      },
      "execution_count": null,
      "outputs": [
        {
          "output_type": "execute_result",
          "data": {
            "text/plain": [
              "6"
            ]
          },
          "metadata": {},
          "execution_count": 34
        }
      ]
    },
    {
      "cell_type": "markdown",
      "source": [
        "##Zadanie 2\n"
      ],
      "metadata": {
        "id": "gL_c50m3bHS4"
      }
    },
    {
      "cell_type": "code",
      "source": [
        "def anagram(x, y):\n",
        "    if(sorted(x)== sorted(y)):\n",
        "        return True\n",
        "    else:\n",
        "        return False       \n",
        "\n",
        "print(anagram('abababab','abaababa'))\n",
        "print(anagram('xyxy','yxyx'))\n",
        "         \n"
      ],
      "metadata": {
        "colab": {
          "base_uri": "https://localhost:8080/"
        },
        "id": "laSO7zMlbRTY",
        "outputId": "e75991ca-4856-4f1e-8eec-3d7e5be67fb8"
      },
      "execution_count": null,
      "outputs": [
        {
          "output_type": "stream",
          "name": "stdout",
          "text": [
            "False\n",
            "True\n"
          ]
        }
      ]
    },
    {
      "cell_type": "markdown",
      "source": [
        "## Zadanie 3"
      ],
      "metadata": {
        "id": "zoa1Lmwsd1nL"
      }
    },
    {
      "cell_type": "code",
      "source": [
        "student={'imie':'Jan','nazwisko':'kowalski','wiek':25,'wzrost':188\n",
        ",'waga':80,'miasto':'Torun'}\n",
        "\n",
        "for i in student.items():\n",
        "    print (i[0], '->',i[1])"
      ],
      "metadata": {
        "colab": {
          "base_uri": "https://localhost:8080/"
        },
        "id": "rvhpnnkDd6Y_",
        "outputId": "661c201b-6e58-484d-9b00-824d003bf45f"
      },
      "execution_count": null,
      "outputs": [
        {
          "output_type": "stream",
          "name": "stdout",
          "text": [
            "imie -> Jan\n",
            "nazwisko -> kowalski\n",
            "wiek -> 25\n",
            "wzrost -> 188\n",
            "waga -> 80\n",
            "miasto -> Torun\n"
          ]
        }
      ]
    },
    {
      "cell_type": "code",
      "source": [
        "student['wzrost'] = 182\n",
        "\n",
        "print(student)\n"
      ],
      "metadata": {
        "colab": {
          "base_uri": "https://localhost:8080/"
        },
        "id": "ErWxAm0gjJm-",
        "outputId": "9a076e99-f35b-4912-df9b-ac7767ae5aaa"
      },
      "execution_count": null,
      "outputs": [
        {
          "output_type": "stream",
          "name": "stdout",
          "text": [
            "{'imie': 'Jan', 'nazwisko': 'kowalski', 'wiek': 25, 'wzrost': 182, 'waga': 80, 'miasto': 'Torun'}\n"
          ]
        }
      ]
    },
    {
      "cell_type": "code",
      "source": [
        "student['wynik matury'] = 90\n",
        "print(student)"
      ],
      "metadata": {
        "colab": {
          "base_uri": "https://localhost:8080/"
        },
        "id": "eWdXv_yDjgBs",
        "outputId": "4e9a7858-a38b-4df8-8634-e5bce0ec1084"
      },
      "execution_count": null,
      "outputs": [
        {
          "output_type": "stream",
          "name": "stdout",
          "text": [
            "{'imie': 'Jan', 'nazwisko': 'kowalski', 'wiek': 25, 'wzrost': 182, 'waga': 80, 'miasto': 'Torun', 'wynik matury': 90}\n"
          ]
        }
      ]
    },
    {
      "cell_type": "code",
      "source": [
        "del student['miasto']\n",
        "print(student)"
      ],
      "metadata": {
        "colab": {
          "base_uri": "https://localhost:8080/"
        },
        "id": "hHCYlZs2jswh",
        "outputId": "da71bab3-5292-46bd-8949-ccc1e2b314dd"
      },
      "execution_count": null,
      "outputs": [
        {
          "output_type": "stream",
          "name": "stdout",
          "text": [
            "{'imie': 'Jan', 'nazwisko': 'kowalski', 'wiek': 25, 'wzrost': 182, 'waga': 80, 'wynik matury': 90}\n"
          ]
        }
      ]
    },
    {
      "cell_type": "markdown",
      "source": [
        "##Zadanie 4"
      ],
      "metadata": {
        "id": "23IT9TKJkRdu"
      }
    },
    {
      "cell_type": "code",
      "source": [
        "klucze=['klucz1','klucz2','innyklucz','test']\n",
        "wartosci=[1,2,5,1]\n",
        "\n",
        "slownik = dict(zip(klucze, wartosci))\n",
        "\n",
        "print(slownik)\n",
        "\n"
      ],
      "metadata": {
        "colab": {
          "base_uri": "https://localhost:8080/"
        },
        "id": "EG1LlirAkUGM",
        "outputId": "2204e6d0-13ce-40fb-f523-7d81288cb15c"
      },
      "execution_count": null,
      "outputs": [
        {
          "output_type": "stream",
          "name": "stdout",
          "text": [
            "{'klucz1': 1, 'klucz2': 2, 'innyklucz': 5, 'test': 1}\n"
          ]
        }
      ]
    },
    {
      "cell_type": "markdown",
      "source": [
        "##Zadanie 5"
      ],
      "metadata": {
        "id": "XRY_YXdEmE8l"
      }
    },
    {
      "cell_type": "code",
      "source": [
        "def ciag1(n):\n",
        "    a0 = 1 \n",
        "\n",
        "    for i in range(n):\n",
        "        a0 *= 2 \n",
        "\n",
        "    return a0\n",
        "\n",
        "print(ciag1(5))\n",
        "\n",
        "print(ciag1(6))"
      ],
      "metadata": {
        "colab": {
          "base_uri": "https://localhost:8080/"
        },
        "id": "jT1VVqqJlgkV",
        "outputId": "a62fea3a-0e65-4311-e49f-38114afc7df2"
      },
      "execution_count": 1,
      "outputs": [
        {
          "output_type": "stream",
          "name": "stdout",
          "text": [
            "32\n",
            "64\n"
          ]
        }
      ]
    },
    {
      "cell_type": "code",
      "source": [
        "def ciag2(n):\n",
        "    b0, b1 = 0, 1 \n",
        "\n",
        "    if n == 0:\n",
        "        return b0\n",
        "\n",
        "    for i in range(1, n):\n",
        "        b1, b0 = b1 + 3 * b0, b1 \n",
        "\n",
        "    return b1\n",
        "\n",
        "print(ciag2(2))\n",
        "print(ciag2(3))"
      ],
      "metadata": {
        "colab": {
          "base_uri": "https://localhost:8080/"
        },
        "id": "A3yMsH_ulxQM",
        "outputId": "4ccd4221-e060-4471-907f-bdc6c91b79a3"
      },
      "execution_count": 2,
      "outputs": [
        {
          "output_type": "stream",
          "name": "stdout",
          "text": [
            "1\n",
            "4\n"
          ]
        }
      ]
    },
    {
      "cell_type": "code",
      "source": [
        "def ciag3(n):\n",
        "    c0 = 5 \n",
        "\n",
        "    for i in range(n):\n",
        "        c0 = 0.5 * (c0 + 42.0 / c0) \n",
        "\n",
        "    return c0\n",
        "\n",
        "print((ciag3(4)))\n",
        "print((ciag3(10)))\n",
        "print((ciag3(2)))"
      ],
      "metadata": {
        "colab": {
          "base_uri": "https://localhost:8080/"
        },
        "id": "aF1auaqIl0O0",
        "outputId": "fb11083d-4437-4f2f-d8b7-107ab2108ce7"
      },
      "execution_count": 3,
      "outputs": [
        {
          "output_type": "stream",
          "name": "stdout",
          "text": [
            "6.480740698407937\n",
            "6.48074069840786\n",
            "6.4843283582089555\n"
          ]
        }
      ]
    },
    {
      "cell_type": "markdown",
      "source": [
        "##Zadanie 6"
      ],
      "metadata": {
        "id": "E5G3SnmKlrxs"
      }
    },
    {
      "cell_type": "code",
      "source": [
        "def przyblizenie_pi(n):\n",
        "    pi = 0 \n",
        "    a, b = 0, 1\n",
        "\n",
        "    for i in range(n + 1):\n",
        "        c1 = 4. / (a + 1)\n",
        "        c2 = -2. / (a + 4)\n",
        "        c3 = -1. / (a + 5)\n",
        "        c4 = -1. / (a + 6)\n",
        "        pi += 1.0 / b * (c1 + c2 + c3 + c4)\n",
        "        a += 8\n",
        "        b *= 16\n",
        "\n",
        "    return pi\n",
        "\n",
        "def main():\n",
        "    try:\n",
        "        n = int(input('Proszę wprowadzić argument n: '))\n",
        "    except:\n",
        "        print('Wprowadzono nieprawidłowy numer')\n",
        "        return\n",
        "\n",
        "    pi = przyblizenie_pi(n)\n",
        "    print('Uzyskane przybliżenie pi: ' + str(pi))\n",
        "\n",
        "main()"
      ],
      "metadata": {
        "colab": {
          "base_uri": "https://localhost:8080/"
        },
        "id": "ElV4WSVZlt_A",
        "outputId": "4b1fae15-91eb-42a5-899f-1d3eb0ffc9f8"
      },
      "execution_count": 4,
      "outputs": [
        {
          "output_type": "stream",
          "name": "stdout",
          "text": [
            "Proszę wprowadzić argument n: 55\n",
            "Uzyskane przybliżenie pi: 3.141592653589793\n"
          ]
        }
      ]
    },
    {
      "cell_type": "markdown",
      "source": [
        "##Zadanie 7"
      ],
      "metadata": {
        "id": "yPW9S7FUmADq"
      }
    },
    {
      "cell_type": "code",
      "source": [
        "from math import sqrt\n",
        "\n",
        "def przyblizenie_pi(m):\n",
        "    S = 0 \n",
        "    a, b, p = 1, 1 / sqrt(2), 1\n",
        "\n",
        "    for i in range(1, m + 1):\n",
        "        a, b, p = 0.5 * (a + b), sqrt(a * b), 2 * p\n",
        "        S += p * (a ** 2 - b ** 2)\n",
        "\n",
        "    return (4. * a ** 2) / (1 - 2 * S)\n",
        "\n",
        "def main():\n",
        "    try:\n",
        "        m = int(input('Proszę wprowadzić argument m: '))\n",
        "    except:\n",
        "        print('Wprowadzono nieprawidłowy numer')\n",
        "        return\n",
        "\n",
        "    pi = przyblizenie_pi(m)\n",
        "    print('Uzyskane przybliżenie pi: ' + str(pi))\n",
        "\n",
        "main()"
      ],
      "metadata": {
        "colab": {
          "base_uri": "https://localhost:8080/"
        },
        "id": "0bOqjCxGmBzc",
        "outputId": "297d5884-d12e-442e-a777-25584f76c143"
      },
      "execution_count": 5,
      "outputs": [
        {
          "output_type": "stream",
          "name": "stdout",
          "text": [
            "Proszę wprowadzić argument m: 5\n",
            "Uzyskane przybliżenie pi: 3.14159265358988\n"
          ]
        }
      ]
    }
  ]
}