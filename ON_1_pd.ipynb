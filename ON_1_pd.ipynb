{
  "nbformat": 4,
  "nbformat_minor": 0,
  "metadata": {
    "colab": {
      "name": "ON_1_pd.ipynb",
      "provenance": [],
      "collapsed_sections": [],
      "authorship_tag": "ABX9TyPIcjrtpRbIKzGNB2AFk4hZ",
      "include_colab_link": true
    },
    "kernelspec": {
      "name": "python3",
      "display_name": "Python 3"
    },
    "language_info": {
      "name": "python"
    }
  },
  "cells": [
    {
      "cell_type": "markdown",
      "metadata": {
        "id": "view-in-github",
        "colab_type": "text"
      },
      "source": [
        "<a href=\"https://colab.research.google.com/github/KitoPlayer/ObliczeniaNaukowe/blob/main/ON_1_pd.ipynb\" target=\"_parent\"><img src=\"https://colab.research.google.com/assets/colab-badge.svg\" alt=\"Open In Colab\"/></a>"
      ]
    },
    {
      "cell_type": "markdown",
      "source": [
        "## Zadanie 1\n",
        "\n"
      ],
      "metadata": {
        "id": "SmD6iUjwaVlK"
      }
    },
    {
      "cell_type": "code",
      "source": [
        "\n",
        "\n",
        "def num_digits(a):\n",
        "  assert type(a) == int\n",
        "  return len(str(abs(a)))\n",
        "\n"
      ],
      "metadata": {
        "id": "3aNaF_9Bag3u"
      },
      "execution_count": null,
      "outputs": []
    },
    {
      "cell_type": "code",
      "source": [
        "num_digits(201037)"
      ],
      "metadata": {
        "colab": {
          "base_uri": "https://localhost:8080/"
        },
        "id": "rVPkaJApbB2A",
        "outputId": "abb41abe-3bab-4b9f-bce0-29380e2e4cdf"
      },
      "execution_count": null,
      "outputs": [
        {
          "output_type": "execute_result",
          "data": {
            "text/plain": [
              "6"
            ]
          },
          "metadata": {},
          "execution_count": 34
        }
      ]
    },
    {
      "cell_type": "markdown",
      "source": [
        "##Zadanie 2\n"
      ],
      "metadata": {
        "id": "gL_c50m3bHS4"
      }
    },
    {
      "cell_type": "code",
      "source": [
        "def anagram(x, y):\n",
        "    if(sorted(x)== sorted(y)):\n",
        "        return True\n",
        "    else:\n",
        "        return False       \n",
        "\n",
        "print(anagram('abababab','abaababa'))\n",
        "print(anagram('xyxy','yxyx'))\n",
        "         \n"
      ],
      "metadata": {
        "colab": {
          "base_uri": "https://localhost:8080/"
        },
        "id": "laSO7zMlbRTY",
        "outputId": "e75991ca-4856-4f1e-8eec-3d7e5be67fb8"
      },
      "execution_count": null,
      "outputs": [
        {
          "output_type": "stream",
          "name": "stdout",
          "text": [
            "False\n",
            "True\n"
          ]
        }
      ]
    },
    {
      "cell_type": "markdown",
      "source": [
        "## Zadanie 3"
      ],
      "metadata": {
        "id": "zoa1Lmwsd1nL"
      }
    },
    {
      "cell_type": "code",
      "source": [
        "student={'imie':'Jan','nazwisko':'kowalski','wiek':25,'wzrost':188\n",
        ",'waga':80,'miasto':'Torun'}\n",
        "\n",
        "for i in student.items():\n",
        "    print (i[0], '->',i[1])"
      ],
      "metadata": {
        "colab": {
          "base_uri": "https://localhost:8080/"
        },
        "id": "rvhpnnkDd6Y_",
        "outputId": "661c201b-6e58-484d-9b00-824d003bf45f"
      },
      "execution_count": null,
      "outputs": [
        {
          "output_type": "stream",
          "name": "stdout",
          "text": [
            "imie -> Jan\n",
            "nazwisko -> kowalski\n",
            "wiek -> 25\n",
            "wzrost -> 188\n",
            "waga -> 80\n",
            "miasto -> Torun\n"
          ]
        }
      ]
    },
    {
      "cell_type": "code",
      "source": [
        "student['wzrost'] = 182\n",
        "\n",
        "print(student)\n"
      ],
      "metadata": {
        "colab": {
          "base_uri": "https://localhost:8080/"
        },
        "id": "ErWxAm0gjJm-",
        "outputId": "9a076e99-f35b-4912-df9b-ac7767ae5aaa"
      },
      "execution_count": null,
      "outputs": [
        {
          "output_type": "stream",
          "name": "stdout",
          "text": [
            "{'imie': 'Jan', 'nazwisko': 'kowalski', 'wiek': 25, 'wzrost': 182, 'waga': 80, 'miasto': 'Torun'}\n"
          ]
        }
      ]
    },
    {
      "cell_type": "code",
      "source": [
        "student['wynik matury'] = 90\n",
        "print(student)"
      ],
      "metadata": {
        "colab": {
          "base_uri": "https://localhost:8080/"
        },
        "id": "eWdXv_yDjgBs",
        "outputId": "4e9a7858-a38b-4df8-8634-e5bce0ec1084"
      },
      "execution_count": null,
      "outputs": [
        {
          "output_type": "stream",
          "name": "stdout",
          "text": [
            "{'imie': 'Jan', 'nazwisko': 'kowalski', 'wiek': 25, 'wzrost': 182, 'waga': 80, 'miasto': 'Torun', 'wynik matury': 90}\n"
          ]
        }
      ]
    },
    {
      "cell_type": "code",
      "source": [
        "del student['miasto']\n",
        "print(student)"
      ],
      "metadata": {
        "colab": {
          "base_uri": "https://localhost:8080/"
        },
        "id": "hHCYlZs2jswh",
        "outputId": "da71bab3-5292-46bd-8949-ccc1e2b314dd"
      },
      "execution_count": null,
      "outputs": [
        {
          "output_type": "stream",
          "name": "stdout",
          "text": [
            "{'imie': 'Jan', 'nazwisko': 'kowalski', 'wiek': 25, 'wzrost': 182, 'waga': 80, 'wynik matury': 90}\n"
          ]
        }
      ]
    },
    {
      "cell_type": "markdown",
      "source": [
        "##Zadanie 4"
      ],
      "metadata": {
        "id": "23IT9TKJkRdu"
      }
    },
    {
      "cell_type": "code",
      "source": [
        "klucze=['klucz1','klucz2','innyklucz','test']\n",
        "wartosci=[1,2,5,1]\n",
        "\n",
        "slownik = dict(zip(klucze, wartosci))\n",
        "\n",
        "print(slownik)\n",
        "\n"
      ],
      "metadata": {
        "colab": {
          "base_uri": "https://localhost:8080/"
        },
        "id": "EG1LlirAkUGM",
        "outputId": "2204e6d0-13ce-40fb-f523-7d81288cb15c"
      },
      "execution_count": null,
      "outputs": [
        {
          "output_type": "stream",
          "name": "stdout",
          "text": [
            "{'klucz1': 1, 'klucz2': 2, 'innyklucz': 5, 'test': 1}\n"
          ]
        }
      ]
    },
    {
      "cell_type": "markdown",
      "source": [
        "##Zadanie 5"
      ],
      "metadata": {
        "id": "XRY_YXdEmE8l"
      }
    }
  ]
}